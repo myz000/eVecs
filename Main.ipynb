{
 "cells": [
  {
   "cell_type": "code",
   "execution_count": 1,
   "id": "311c85fa",
   "metadata": {
    "ExecuteTime": {
     "end_time": "2024-08-01T00:36:37.521282Z",
     "start_time": "2024-08-01T00:36:33.607963Z"
    }
   },
   "outputs": [],
   "source": [
    "import json\n",
    "import os\n",
    "import sys\n",
    "import pandas as pd\n",
    "import numpy as np\n",
    "from tensorflow.keras.callbacks import EarlyStopping,ModelCheckpoint\n",
    "from tensorflow.keras.models import Model,load_model,Sequential\n",
    "from transformers import BertTokenizer, TFBertModel\n",
    "import tensorflow as tf\n",
    "from tensorflow.keras.preprocessing.sequence import pad_sequences\n",
    "from tensorflow.keras import backend as K\n",
    "from tensorflow.keras.layers import Embedding, Dense, Dropout, Input,Concatenate,Lambda,Dot,Activation\n",
    "from tensorflow.keras.metrics import AUC"
   ]
  },
  {
   "cell_type": "code",
   "execution_count": 2,
   "id": "cf874c38",
   "metadata": {
    "ExecuteTime": {
     "end_time": "2024-08-01T00:36:40.096370Z",
     "start_time": "2024-08-01T00:36:38.872656Z"
    }
   },
   "outputs": [],
   "source": [
    "from preprocessing import *\n",
    "from utils import *\n",
    "from trainer import *\n",
    "from models import *"
   ]
  },
  {
   "cell_type": "code",
   "execution_count": null,
   "id": "0acf6d77",
   "metadata": {},
   "outputs": [],
   "source": [
    "MAX_SEQUENCE_LENGTH = 200\n",
    "MODEL_NAME = \"bert-base-chinese/\"\n",
    "aspects = ['LN1','LN2','LN3','LN4','LN5','LN6','LN7','LN8','LN9','LN10']\n",
    "\n",
    "ele_train_folder = 'Data/Loan/ele_aspects_data/train'\n",
    "ele_test_folder = 'Data/Loan/ele_aspects_data/test'\n",
    "ele_encoder_saved_filepath='encoder/'\n",
    "classifier_train_filepath='Data/Loan/train.csv'\n",
    "classifier_test_filepath='Data/Loan/test.csv'\n",
    "classifier_save_filepath='classifier/'\n",
    "\n",
    "encoder_name = 'ele_encoder' \n",
    "classifier_name = 'ele_classifier'\n",
    "\n",
    "ele_encoder_epoch=2\n",
    "batch_size=32\n",
    "\n",
    "Id2Data_train = get_ID2Data(pd.read_csv(classifier_train_filepath))\n",
    "tokenizer = BertTokenizer.from_pretrained(MODEL_NAME)"
   ]
  },
  {
   "cell_type": "code",
   "execution_count": null,
   "id": "a1ee2e2c",
   "metadata": {},
   "outputs": [],
   "source": [
    "trainer = Trainer(ele_train_folder,\n",
    "                    ele_test_folder,\n",
    "                    aspects,\n",
    "                    ele_encoder_saved_filepath,\n",
    "                    classifier_train_filepath,\n",
    "                    classifier_test_filepath,\n",
    "                    classifier_save_filepath,\n",
    "                    ele_encoder_epoch,\n",
    "                    batch_size,\n",
    "                    encoder_name,\n",
    "                    classifier_name,\n",
    "                    tokenizer,\n",
    "                    MAX_SEQUENCE_LENGTH,\n",
    "                    MODEL_NAME,\n",
    "                    Id2Data_train\n",
    "                 )\n",
    "trainer.encoder_trainer() \n",
    "trainer.classifier_train()\n",
    "tester = Tester(aspects,\n",
    "                ele_encoder_saved_filepath,\n",
    "                classifier_test_filepath,\n",
    "                classifier_save_filepath,\n",
    "                encoder_name,\n",
    "                classifier_name,\n",
    "                tokenizer,\n",
    "                MAX_SEQUENCE_LENGTH,\n",
    "               )\n",
    "precsion,recall,f_macro,pp,rr,f_micro,f_ave = tester.get_results()"
   ]
  }
 ],
 "metadata": {
  "kernelspec": {
   "display_name": "(Python)tf2.6",
   "language": "python",
   "name": "tf2.6"
  },
  "language_info": {
   "codemirror_mode": {
    "name": "ipython",
    "version": 3
   },
   "file_extension": ".py",
   "mimetype": "text/x-python",
   "name": "python",
   "nbconvert_exporter": "python",
   "pygments_lexer": "ipython3",
   "version": "3.8.11"
  },
  "toc": {
   "base_numbering": 1,
   "nav_menu": {},
   "number_sections": true,
   "sideBar": true,
   "skip_h1_title": false,
   "title_cell": "Table of Contents",
   "title_sidebar": "Contents",
   "toc_cell": false,
   "toc_position": {},
   "toc_section_display": true,
   "toc_window_display": false
  }
 },
 "nbformat": 4,
 "nbformat_minor": 5
}
